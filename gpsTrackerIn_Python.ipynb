{
 "cells": [
  {
   "cell_type": "code",
   "execution_count": 29,
   "metadata": {},
   "outputs": [
    {
     "data": {
      "text/plain": [
       "'Gps Tracker Using Python\\nLast Updated : 05 Feb, 2024\\nA GPS tracker is a device designed to calculate precise and accurate locations generally by receiving data from satellite sources and computing the exact coordinates of the desired location. To achieve this, we will utilize the requests library in Python, along with some other necessary libraries. We are also going to use folium, a Python library help us build the map that we are going to display at the end to the user.\\n\\nThis article covers all the steps with some necessary requirements on how we can make a GPS tracker in Python with ease. We will cover all the basic steps with clear and concise explanations.\\n\\nGPS Tracker Using Python\\nBelow is the step-by-step procedure by which we can track the user location using its IP address in Python:\\n\\nStep 1: Install Necessary Libraries/Packages\\nIn this step, we will install all the necessary packages or libraries required to create a GPS tracker in Python.\\npip install folium\\npip install requests\\npip install selenium\\npip install datetime\\n\\n\\n'"
      ]
     },
     "execution_count": 29,
     "metadata": {},
     "output_type": "execute_result"
    }
   ],
   "source": [
    "\"\"\"Gps Tracker Using Python\n",
    "Last Updated : 05 Feb, 2024\n",
    "A GPS tracker is a device designed to calculate precise and accurate locations generally by receiving data from satellite sources and computing the exact coordinates of the desired location. To achieve this, we will utilize the requests library in Python, along with some other necessary libraries. We are also going to use folium, a Python library help us build the map that we are going to display at the end to the user.\n",
    "\n",
    "This article covers all the steps with some necessary requirements on how we can make a GPS tracker in Python with ease. We will cover all the basic steps with clear and concise explanations.\n",
    "\n",
    "GPS Tracker Using Python\n",
    "Below is the step-by-step procedure by which we can track the user location using its IP address in Python:\n",
    "\n",
    "Step 1: Install Necessary Libraries/Packages\n",
    "In this step, we will install all the necessary packages or libraries required to create a GPS tracker in Python.\n",
    "pip install folium\n",
    "pip install requests\n",
    "pip install selenium\n",
    "pip install datetime\n",
    "\n",
    "\n",
    "\"\"\"\n"
   ]
  },
  {
   "cell_type": "code",
   "execution_count": 30,
   "metadata": {},
   "outputs": [
    {
     "data": {
      "text/plain": [
       "'Step 2: Import Libraries\\nIn this step, we will import all necessary libraries that are required in this project.\\n'"
      ]
     },
     "execution_count": 30,
     "metadata": {},
     "output_type": "execute_result"
    }
   ],
   "source": [
    "\"\"\"Step 2: Import Libraries\n",
    "In this step, we will import all necessary libraries that are required in this project.\n",
    "\"\"\"\n"
   ]
  },
  {
   "cell_type": "code",
   "execution_count": 31,
   "metadata": {},
   "outputs": [],
   "source": [
    "#Importing all necessary Libraies\n",
    "\n",
    "import requests\n",
    "from selenium import webdriver\n",
    "import folium\n",
    "import datetime\n",
    "import time\n"
   ]
  },
  {
   "cell_type": "code",
   "execution_count": 32,
   "metadata": {},
   "outputs": [
    {
     "data": {
      "text/plain": [
       "'Step 3: Creating a method to get the user coordinates.\\nIn this step, we will be creating a user defined function to the user coordinates ( i.e. longitude and latitude). \\nWe are requesting for users Ip address info. This will return us a json file. \\nThrough this json file, we will extract user latitude, longitude, city and state.\\n'"
      ]
     },
     "execution_count": 32,
     "metadata": {},
     "output_type": "execute_result"
    }
   ],
   "source": [
    "\"\"\"Step 3: Creating a method to get the user coordinates.\n",
    "In this step, we will be creating a user defined function to the user coordinates ( i.e. longitude and latitude). \n",
    "We are requesting for users Ip address info. This will return us a json file. \n",
    "Through this json file, we will extract user latitude, longitude, city and state.\n",
    "\"\"\"\n"
   ]
  },
  {
   "cell_type": "code",
   "execution_count": 33,
   "metadata": {},
   "outputs": [],
   "source": [
    "#this method will return us our actual coordinates\n",
    "#using our ip address\n",
    "\n",
    "def locationCoordinates():\n",
    "\ttry:\n",
    "\t\tresponse = requests.get('https://ipinfo.io')\n",
    "\t\tdata = response.json()\n",
    "\t\tloc = data['loc'].split(',')\n",
    "\t\tlat, long = float(loc[0]), float(loc[1])\n",
    "\t\tcity = data.get('city', 'Unknown')\n",
    "\t\tstate = data.get('region', 'Unknown')\n",
    "\t\treturn lat, long, city, state\n",
    "\t\t#return lat, long\n",
    "\texcept:\n",
    "\t\t#Displaying ther error message\n",
    "\t\tprint(\"Internet Not avialable\")\n",
    "\t\t#closing the program \n",
    "\t\texit()\n",
    "\t\treturn False\n"
   ]
  },
  {
   "cell_type": "code",
   "execution_count": 34,
   "metadata": {},
   "outputs": [
    {
     "data": {
      "text/plain": [
       "'Step 4: Creating the object of the necessary library\\nIn this step we will define a method “gps_locator()” with no parameter. \\nThen, we will create a folium map object under our created method.\\n'"
      ]
     },
     "execution_count": 34,
     "metadata": {},
     "output_type": "execute_result"
    }
   ],
   "source": [
    "\"\"\"Step 4: Creating the object of the necessary library\n",
    "In this step we will define a method “gps_locator()” with no parameter. \n",
    "Then, we will create a folium map object under our created method.\n",
    "\"\"\"\n"
   ]
  },
  {
   "cell_type": "code",
   "execution_count": 38,
   "metadata": {},
   "outputs": [],
   "source": [
    "def gps_locator():\n",
    "\n",
    "\tobj = folium.Map(location=[0, 0], zoom_start=2)\n"
   ]
  },
  {
   "cell_type": "code",
   "execution_count": 36,
   "metadata": {},
   "outputs": [
    {
     "data": {
      "text/plain": [
       "'Step 5: Fetching Coordinates, City and State and Map Generation\\nIn this step, we will fetch coordinates from our created method i.e. locationCoordinates(). \\nFrom this coordinates, we will generate a map pointing to our exact location with the help of folium library. \\nWe will consider doing all this work under try block to avoid any undesirable errors.\\n'"
      ]
     },
     "execution_count": 36,
     "metadata": {},
     "output_type": "execute_result"
    }
   ],
   "source": [
    "\"\"\"Step 5: Fetching Coordinates, City and State and Map Generation\n",
    "In this step, we will fetch coordinates from our created method i.e. locationCoordinates(). \n",
    "From this coordinates, we will generate a map pointing to our exact location with the help of folium library. \n",
    "We will consider doing all this work under try block to avoid any undesirable errors.\n",
    "\"\"\"\n"
   ]
  },
  {
   "cell_type": "code",
   "execution_count": 37,
   "metadata": {},
   "outputs": [
    {
     "ename": "SyntaxError",
     "evalue": "'return' outside function (2965715865.py, line 14)",
     "output_type": "error",
     "traceback": [
      "\u001b[1;36m  Cell \u001b[1;32mIn[37], line 14\u001b[1;36m\u001b[0m\n\u001b[1;33m    return fileName\u001b[0m\n\u001b[1;37m    ^\u001b[0m\n\u001b[1;31mSyntaxError\u001b[0m\u001b[1;31m:\u001b[0m 'return' outside function\n"
     ]
    }
   ],
   "source": [
    "try:\n",
    "    lat,long,city,state = locationCoordinates()\n",
    "    print(\"You Are in {},{}\".format(city,state))\n",
    "    print(\"Your latitude = {} and longitude = {}\".format(lat,long))\n",
    "    folium.Marker([lat,long], popup='Current Location').add_to(obj)\n",
    "\n",
    "\t#We have specified our folder location here\n",
    "\t#You should change this with your folder location\n",
    "\t#where you want your file\n",
    "\tfileName = \"C:/screengfg/Location\" + str(datetime.date.today()) + \".html\"\n",
    " obj.save(fileName)\n",
    " return fileName\n",
    "except:\n",
    "\t#Displaying ther error message\n",
    "\tprint(\"Internet Not avialable\")\n",
    "\t#closing the program \n",
    "\texit()\n",
    "\treturn False\n"
   ]
  },
  {
   "cell_type": "code",
   "execution_count": null,
   "metadata": {},
   "outputs": [
    {
     "data": {
      "text/plain": [
       "'Step 6: Creation of main method and displaying the map.\\nIn this method, we will create a a main method. Under this main method, we will call gps_locator() method. \\nThis method will return a file location. Through this file location, we will open that in our chrome browser using selenium. \\nWe are also closing our browser with 30 seconds, in case user do not close it manually.\\n'"
      ]
     },
     "execution_count": 12,
     "metadata": {},
     "output_type": "execute_result"
    }
   ],
   "source": [
    "\"\"\"Step 6: Creation of main method and displaying the map.\n",
    "In this method, we will create a a main method. Under this main method, we will call gps_locator() method. \n",
    "This method will return a file location. Through this file location, we will open that in our chrome browser using selenium. \n",
    "We are also closing our browser with 30 seconds, in case user do not close it manually.\n",
    "\"\"\"\n"
   ]
  },
  {
   "cell_type": "code",
   "execution_count": null,
   "metadata": {},
   "outputs": [
    {
     "name": "stdout",
     "output_type": "stream",
     "text": [
      "---------------GPS Using Python---------------\n",
      "\n"
     ]
    },
    {
     "ename": "NameError",
     "evalue": "name 'folium' is not defined",
     "output_type": "error",
     "traceback": [
      "\u001b[1;31m---------------------------------------------------------------------------\u001b[0m",
      "\u001b[1;31mNameError\u001b[0m                                 Traceback (most recent call last)",
      "Cell \u001b[1;32mIn[13], line 5\u001b[0m\n\u001b[0;32m      1\u001b[0m \u001b[38;5;28;01mif\u001b[39;00m \u001b[38;5;18m__name__\u001b[39m \u001b[38;5;241m==\u001b[39m \u001b[38;5;124m\"\u001b[39m\u001b[38;5;124m__main__\u001b[39m\u001b[38;5;124m\"\u001b[39m:\n\u001b[0;32m      3\u001b[0m \t\u001b[38;5;28mprint\u001b[39m(\u001b[38;5;124m\"\u001b[39m\u001b[38;5;124m---------------GPS Using Python---------------\u001b[39m\u001b[38;5;130;01m\\n\u001b[39;00m\u001b[38;5;124m\"\u001b[39m)\n\u001b[1;32m----> 5\u001b[0m \tpage \u001b[38;5;241m=\u001b[39m \u001b[43mgps_locator\u001b[49m\u001b[43m(\u001b[49m\u001b[43m)\u001b[49m\n\u001b[0;32m      6\u001b[0m \t\u001b[38;5;28mprint\u001b[39m(\u001b[38;5;124m\"\u001b[39m\u001b[38;5;130;01m\\n\u001b[39;00m\u001b[38;5;124mOpening File.............\u001b[39m\u001b[38;5;124m\"\u001b[39m)\n\u001b[0;32m      7\u001b[0m \tdr \u001b[38;5;241m=\u001b[39m webdriver\u001b[38;5;241m.\u001b[39mChrome()\n",
      "Cell \u001b[1;32mIn[9], line 3\u001b[0m, in \u001b[0;36mgps_locator\u001b[1;34m()\u001b[0m\n\u001b[0;32m      1\u001b[0m \u001b[38;5;28;01mdef\u001b[39;00m \u001b[38;5;21mgps_locator\u001b[39m():\n\u001b[1;32m----> 3\u001b[0m \tobj \u001b[38;5;241m=\u001b[39m \u001b[43mfolium\u001b[49m\u001b[38;5;241m.\u001b[39mMap(location\u001b[38;5;241m=\u001b[39m[\u001b[38;5;241m0\u001b[39m, \u001b[38;5;241m0\u001b[39m], zoom_start\u001b[38;5;241m=\u001b[39m\u001b[38;5;241m2\u001b[39m)\n",
      "\u001b[1;31mNameError\u001b[0m: name 'folium' is not defined"
     ]
    }
   ],
   "source": [
    "if __name__ == \"__main__\":\n",
    "\n",
    "\tprint(\"---------------GPS Using Python---------------\\n\")\n",
    "\t\n",
    "\tpage = gps_locator()\n",
    "\tprint(\"\\nOpening File.............\")\n",
    "\tdr = webdriver.Chrome()\n",
    "\tdr.get(page)\n",
    "\ttime.sleep(30)\n",
    "\tdr.quit()\n",
    "\tprint(\"\\nBrowser Closed..............\")\n"
   ]
  },
  {
   "cell_type": "code",
   "execution_count": null,
   "metadata": {},
   "outputs": [],
   "source": [
    "\"\"\"\n",
    "Conclusion\n",
    "A GPS tracker is device is designed to calculate and display precise location generally received from satellite sources. \n",
    "We have made a GPS tracker in Python through fetching information from user's ip address. \n",
    "We have use an API to fetch details and then calculates the exact coordinates. \n",
    "From this coordinates, we have get our current address and also we have created a html file of the map and displayed it in our browser with the help of selenium. \n",
    "It is simple to understand and it also uses some different and libraries to achieve the end task.\n",
    "\"\"\"\n"
   ]
  }
 ],
 "metadata": {
  "kernelspec": {
   "display_name": "Python 3",
   "language": "python",
   "name": "python3"
  },
  "language_info": {
   "codemirror_mode": {
    "name": "ipython",
    "version": 3
   },
   "file_extension": ".py",
   "mimetype": "text/x-python",
   "name": "python",
   "nbconvert_exporter": "python",
   "pygments_lexer": "ipython3",
   "version": "3.12.4"
  }
 },
 "nbformat": 4,
 "nbformat_minor": 2
}
