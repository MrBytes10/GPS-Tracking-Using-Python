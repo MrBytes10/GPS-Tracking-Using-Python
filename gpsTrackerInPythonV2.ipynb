{
 "cells": [
  {
   "cell_type": "code",
   "execution_count": 3,
   "metadata": {},
   "outputs": [
    {
     "data": {
      "text/plain": [
       "'Complete Code Implementation\\nHere, I have provided the compiled code with necessary instruction in form of comments.\\n'"
      ]
     },
     "execution_count": 3,
     "metadata": {},
     "output_type": "execute_result"
    }
   ],
   "source": [
    "\"\"\"Complete Code Implementation\n",
    "Here, I have provided the compiled code with necessary instruction in form of comments.\n",
    "\"\"\"\n"
   ]
  },
  {
   "cell_type": "code",
   "execution_count": 4,
   "metadata": {},
   "outputs": [
    {
     "name": "stdout",
     "output_type": "stream",
     "text": [
      "---------------GPS Using Python---------------\n",
      "\n",
      "You Are in Nairobi,Nairobi County\n",
      "Your latitude = -1.2833 and longitude = 36.8167\n",
      "\n",
      "Opening File.............\n"
     ]
    },
    {
     "ename": "InvalidArgumentException",
     "evalue": "Message: invalid argument\n  (Session info: chrome=125.0.6422.142)\nStacktrace:\n\tGetHandleVerifier [0x00007FF798F11F52+60322]\n\t(No symbol) [0x00007FF798E8CEC9]\n\t(No symbol) [0x00007FF798D47CE9]\n\t(No symbol) [0x00007FF798D2FCCE]\n\t(No symbol) [0x00007FF798D2E1E5]\n\t(No symbol) [0x00007FF798D2E9DC]\n\t(No symbol) [0x00007FF798D4AC91]\n\t(No symbol) [0x00007FF798DDC5FE]\n\t(No symbol) [0x00007FF798DBC21A]\n\t(No symbol) [0x00007FF798DDBC80]\n\t(No symbol) [0x00007FF798DBBFC3]\n\t(No symbol) [0x00007FF798D89617]\n\t(No symbol) [0x00007FF798D8A211]\n\tGetHandleVerifier [0x00007FF7992294AD+3301629]\n\tGetHandleVerifier [0x00007FF7992736D3+3605283]\n\tGetHandleVerifier [0x00007FF799269450+3563680]\n\tGetHandleVerifier [0x00007FF798FC4326+790390]\n\t(No symbol) [0x00007FF798E9750F]\n\t(No symbol) [0x00007FF798E93404]\n\t(No symbol) [0x00007FF798E93592]\n\t(No symbol) [0x00007FF798E82F9F]\n\tBaseThreadInitThunk [0x00007FF9CCC27344+20]\n\tRtlUserThreadStart [0x00007FF9CDB626B1+33]\n",
     "output_type": "error",
     "traceback": [
      "\u001b[1;31m---------------------------------------------------------------------------\u001b[0m",
      "\u001b[1;31mInvalidArgumentException\u001b[0m                  Traceback (most recent call last)",
      "Cell \u001b[1;32mIn[4], line 61\u001b[0m\n\u001b[0;32m     59\u001b[0m \u001b[38;5;28mprint\u001b[39m(\u001b[38;5;124m\"\u001b[39m\u001b[38;5;130;01m\\n\u001b[39;00m\u001b[38;5;124mOpening File.............\u001b[39m\u001b[38;5;124m\"\u001b[39m)\n\u001b[0;32m     60\u001b[0m dr \u001b[38;5;241m=\u001b[39m webdriver\u001b[38;5;241m.\u001b[39mChrome()\n\u001b[1;32m---> 61\u001b[0m \u001b[43mdr\u001b[49m\u001b[38;5;241;43m.\u001b[39;49m\u001b[43mget\u001b[49m\u001b[43m(\u001b[49m\u001b[38;5;28;43mstr\u001b[39;49m\u001b[43m(\u001b[49m\u001b[43mpage\u001b[49m\u001b[43m)\u001b[49m\u001b[43m)\u001b[49m\n\u001b[0;32m     62\u001b[0m time\u001b[38;5;241m.\u001b[39msleep(\u001b[38;5;241m4\u001b[39m)\n\u001b[0;32m     63\u001b[0m dr\u001b[38;5;241m.\u001b[39mquit()\n",
      "File \u001b[1;32mc:\\Users\\ADMIN\\AppData\\Local\\Programs\\Python\\Python312\\Lib\\site-packages\\selenium\\webdriver\\remote\\webdriver.py:356\u001b[0m, in \u001b[0;36mWebDriver.get\u001b[1;34m(self, url)\u001b[0m\n\u001b[0;32m    354\u001b[0m \u001b[38;5;28;01mdef\u001b[39;00m \u001b[38;5;21mget\u001b[39m(\u001b[38;5;28mself\u001b[39m, url: \u001b[38;5;28mstr\u001b[39m) \u001b[38;5;241m-\u001b[39m\u001b[38;5;241m>\u001b[39m \u001b[38;5;28;01mNone\u001b[39;00m:\n\u001b[0;32m    355\u001b[0m \u001b[38;5;250m    \u001b[39m\u001b[38;5;124;03m\"\"\"Loads a web page in the current browser session.\"\"\"\u001b[39;00m\n\u001b[1;32m--> 356\u001b[0m     \u001b[38;5;28;43mself\u001b[39;49m\u001b[38;5;241;43m.\u001b[39;49m\u001b[43mexecute\u001b[49m\u001b[43m(\u001b[49m\u001b[43mCommand\u001b[49m\u001b[38;5;241;43m.\u001b[39;49m\u001b[43mGET\u001b[49m\u001b[43m,\u001b[49m\u001b[43m \u001b[49m\u001b[43m{\u001b[49m\u001b[38;5;124;43m\"\u001b[39;49m\u001b[38;5;124;43murl\u001b[39;49m\u001b[38;5;124;43m\"\u001b[39;49m\u001b[43m:\u001b[49m\u001b[43m \u001b[49m\u001b[43murl\u001b[49m\u001b[43m}\u001b[49m\u001b[43m)\u001b[49m\n",
      "File \u001b[1;32mc:\\Users\\ADMIN\\AppData\\Local\\Programs\\Python\\Python312\\Lib\\site-packages\\selenium\\webdriver\\remote\\webdriver.py:347\u001b[0m, in \u001b[0;36mWebDriver.execute\u001b[1;34m(self, driver_command, params)\u001b[0m\n\u001b[0;32m    345\u001b[0m response \u001b[38;5;241m=\u001b[39m \u001b[38;5;28mself\u001b[39m\u001b[38;5;241m.\u001b[39mcommand_executor\u001b[38;5;241m.\u001b[39mexecute(driver_command, params)\n\u001b[0;32m    346\u001b[0m \u001b[38;5;28;01mif\u001b[39;00m response:\n\u001b[1;32m--> 347\u001b[0m     \u001b[38;5;28;43mself\u001b[39;49m\u001b[38;5;241;43m.\u001b[39;49m\u001b[43merror_handler\u001b[49m\u001b[38;5;241;43m.\u001b[39;49m\u001b[43mcheck_response\u001b[49m\u001b[43m(\u001b[49m\u001b[43mresponse\u001b[49m\u001b[43m)\u001b[49m\n\u001b[0;32m    348\u001b[0m     response[\u001b[38;5;124m\"\u001b[39m\u001b[38;5;124mvalue\u001b[39m\u001b[38;5;124m\"\u001b[39m] \u001b[38;5;241m=\u001b[39m \u001b[38;5;28mself\u001b[39m\u001b[38;5;241m.\u001b[39m_unwrap_value(response\u001b[38;5;241m.\u001b[39mget(\u001b[38;5;124m\"\u001b[39m\u001b[38;5;124mvalue\u001b[39m\u001b[38;5;124m\"\u001b[39m, \u001b[38;5;28;01mNone\u001b[39;00m))\n\u001b[0;32m    349\u001b[0m     \u001b[38;5;28;01mreturn\u001b[39;00m response\n",
      "File \u001b[1;32mc:\\Users\\ADMIN\\AppData\\Local\\Programs\\Python\\Python312\\Lib\\site-packages\\selenium\\webdriver\\remote\\errorhandler.py:229\u001b[0m, in \u001b[0;36mErrorHandler.check_response\u001b[1;34m(self, response)\u001b[0m\n\u001b[0;32m    227\u001b[0m         alert_text \u001b[38;5;241m=\u001b[39m value[\u001b[38;5;124m\"\u001b[39m\u001b[38;5;124malert\u001b[39m\u001b[38;5;124m\"\u001b[39m]\u001b[38;5;241m.\u001b[39mget(\u001b[38;5;124m\"\u001b[39m\u001b[38;5;124mtext\u001b[39m\u001b[38;5;124m\"\u001b[39m)\n\u001b[0;32m    228\u001b[0m     \u001b[38;5;28;01mraise\u001b[39;00m exception_class(message, screen, stacktrace, alert_text)  \u001b[38;5;66;03m# type: ignore[call-arg]  # mypy is not smart enough here\u001b[39;00m\n\u001b[1;32m--> 229\u001b[0m \u001b[38;5;28;01mraise\u001b[39;00m exception_class(message, screen, stacktrace)\n",
      "\u001b[1;31mInvalidArgumentException\u001b[0m: Message: invalid argument\n  (Session info: chrome=125.0.6422.142)\nStacktrace:\n\tGetHandleVerifier [0x00007FF798F11F52+60322]\n\t(No symbol) [0x00007FF798E8CEC9]\n\t(No symbol) [0x00007FF798D47CE9]\n\t(No symbol) [0x00007FF798D2FCCE]\n\t(No symbol) [0x00007FF798D2E1E5]\n\t(No symbol) [0x00007FF798D2E9DC]\n\t(No symbol) [0x00007FF798D4AC91]\n\t(No symbol) [0x00007FF798DDC5FE]\n\t(No symbol) [0x00007FF798DBC21A]\n\t(No symbol) [0x00007FF798DDBC80]\n\t(No symbol) [0x00007FF798DBBFC3]\n\t(No symbol) [0x00007FF798D89617]\n\t(No symbol) [0x00007FF798D8A211]\n\tGetHandleVerifier [0x00007FF7992294AD+3301629]\n\tGetHandleVerifier [0x00007FF7992736D3+3605283]\n\tGetHandleVerifier [0x00007FF799269450+3563680]\n\tGetHandleVerifier [0x00007FF798FC4326+790390]\n\t(No symbol) [0x00007FF798E9750F]\n\t(No symbol) [0x00007FF798E93404]\n\t(No symbol) [0x00007FF798E93592]\n\t(No symbol) [0x00007FF798E82F9F]\n\tBaseThreadInitThunk [0x00007FF9CCC27344+20]\n\tRtlUserThreadStart [0x00007FF9CDB626B1+33]\n"
     ]
    }
   ],
   "source": [
    "# Importing Necessary Modules\n",
    "import requests\n",
    "from selenium import webdriver\n",
    "import folium\n",
    "import datetime\n",
    "import time\n",
    "\n",
    "# this method will return us our actual coordinates\n",
    "# using our ip address\n",
    "\n",
    "def locationCoordinates():\n",
    "\ttry:\n",
    "\t\tresponse = requests.get('https://ipinfo.io')\n",
    "\t\tdata = response.json()\n",
    "\t\tloc = data['loc'].split(',')\n",
    "\t\tlat, long = float(loc[0]), float(loc[1])\n",
    "\t\tcity = data.get('city', 'Unknown')\n",
    "\t\tstate = data.get('region', 'Unknown')\n",
    "\t\treturn lat, long, city, state\n",
    "\t\t# return lat, long\n",
    "\texcept:\n",
    "\t\t# Displaying ther error message\n",
    "\t\tprint(\"Internet Not avialable\")\n",
    "\t\t# closing the program\n",
    "\t\texit()\n",
    "\t\treturn False\n",
    "\n",
    "\n",
    "# this method will fetch our coordinates and create a html file\n",
    "# of the map\n",
    "def gps_locator():\n",
    "\n",
    "\tobj = folium.Map(location=[0, 0], zoom_start=2)\n",
    "\n",
    "\ttry:\n",
    "\t\tlat, long, city, state = locationCoordinates()\n",
    "\t\tprint(\"You Are in {},{}\".format(city, state))\n",
    "\t\tprint(\"Your latitude = {} and longitude = {}\".format(lat, long))\n",
    "\t\tfolium.Marker([lat, long], popup='Current Location').add_to(obj)\n",
    "\n",
    "\t\tfileName = \"C:/screengfg/Location\" + \\\n",
    "\t\t\tstr(datetime.date.today()) + \".html\"\n",
    "\n",
    "\t\tobj.save(fileName)\n",
    "\n",
    "\t\treturn fileName\n",
    "\n",
    "\texcept:\n",
    "\t\treturn False\n",
    "\n",
    "\n",
    "# Main method\n",
    "if __name__ == \"__main__\":\n",
    "\n",
    "\tprint(\"---------------GPS Using Python---------------\\n\")\n",
    "\n",
    "\t# function Calling\n",
    "\tpage = gps_locator()\n",
    "\tprint(\"\\nOpening File.............\")\n",
    "\tdr = webdriver.Chrome()\n",
    "\tdr.get(str(page))\n",
    "\ttime.sleep(4)\n",
    "\tdr.quit()\n",
    "\tprint(\"\\nBrowser Closed..............\")\n"
   ]
  }
 ],
 "metadata": {
  "kernelspec": {
   "display_name": "Python 3",
   "language": "python",
   "name": "python3"
  },
  "language_info": {
   "codemirror_mode": {
    "name": "ipython",
    "version": 3
   },
   "file_extension": ".py",
   "mimetype": "text/x-python",
   "name": "python",
   "nbconvert_exporter": "python",
   "pygments_lexer": "ipython3",
   "version": "3.12.4"
  }
 },
 "nbformat": 4,
 "nbformat_minor": 2
}
